{
  "metadata": {
    "kernelspec": {
      "name": "python",
      "display_name": "Python (Pyodide)",
      "language": "python"
    },
    "language_info": {
      "codemirror_mode": {
        "name": "python",
        "version": 3
      },
      "file_extension": ".py",
      "mimetype": "text/x-python",
      "name": "python",
      "nbconvert_exporter": "python",
      "pygments_lexer": "ipython3",
      "version": "3.8"
    }
  },
  "nbformat_minor": 4,
  "nbformat": 4,
  "cells": [
    {
      "cell_type": "markdown",
      "source": "# Data Science Tools and Ecosystem",
      "metadata": {}
    },
    {
      "cell_type": "markdown",
      "source": "En este cuaderno, se resumen las herramientas y ecosistemas de datos.",
      "metadata": {}
    },
    {
      "cell_type": "markdown",
      "source": "**Objetivos:** \n",
      "metadata": {}
    },
    {
      "cell_type": "markdown",
      "source": "- Aprender a enlistar en una manera desordenada.\n- Aprender a enlistar en una manera ordenada.\n- Crear tablas. \n- Usar lenguage de ciencia de datos.\n- Aplicar expresiones de codigo.",
      "metadata": {}
    },
    {
      "cell_type": "markdown",
      "source": "Algunos de los lenguajes populares que utilizan los cientificos de datos son:",
      "metadata": {}
    },
    {
      "cell_type": "markdown",
      "source": "1. SQL\n2. Python\n3. Java \n4. PHP",
      "metadata": {}
    },
    {
      "cell_type": "markdown",
      "source": "Algunas de las bibliotecas comunmente utilizadas por los cientificos de datos incluyen:",
      "metadata": {}
    },
    {
      "cell_type": "markdown",
      "source": "1. Plotly\n2. OpenCV\n3. Pandas\n4. Seaborn\n5. NumPy",
      "metadata": {}
    },
    {
      "cell_type": "markdown",
      "source": "Herramientas de ciencia de datos:\n|Herramienta de ciencia de datos|\n|-------------------------------|\n|Rstudio|\n|tensorflow|\n|Jupiter Notebook|",
      "metadata": {
        "tags": [],
        "editable": true,
        "slideshow": {
          "slide_type": ""
        }
      }
    },
    {
      "cell_type": "markdown",
      "source": "Esta es una expresion aritmetica simple para multiplicar y luego sumar enteros.",
      "metadata": {}
    },
    {
      "cell_type": "code",
      "source": "(3 * 4) + 5",
      "metadata": {
        "trusted": true
      },
      "outputs": [
        {
          "execution_count": 16,
          "output_type": "execute_result",
          "data": {
            "text/plain": "17"
          },
          "metadata": {}
        }
      ],
      "execution_count": 16
    },
    {
      "cell_type": "markdown",
      "source": "Esto convertira 200 minutos a horas diviviendo por 60.",
      "metadata": {}
    },
    {
      "cell_type": "code",
      "source": "(200/60)",
      "metadata": {
        "trusted": true
      },
      "outputs": [
        {
          "execution_count": 18,
          "output_type": "execute_result",
          "data": {
            "text/plain": "3.3333333333333335"
          },
          "metadata": {}
        }
      ],
      "execution_count": 18
    },
    {
      "cell_type": "markdown",
      "source": "## Autor\nKatherine Rementeria Diaz",
      "metadata": {}
    }
  ]
}